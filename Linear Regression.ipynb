{
 "cells": [
  {
   "cell_type": "markdown",
   "id": "a0ca6d93",
   "metadata": {},
   "source": [
    "# Import Libraries"
   ]
  },
  {
   "cell_type": "code",
   "execution_count": 19,
   "id": "d998eac8",
   "metadata": {},
   "outputs": [],
   "source": [
    "import numpy as np\n",
    "import pandas as pd\n",
    "import matplotlib.pyplot as plt\n",
    "import seaborn as sns\n",
    "%matplotlib inline"
   ]
  },
  {
   "cell_type": "markdown",
   "id": "1a08156b",
   "metadata": {},
   "source": [
    "# Load Dataset"
   ]
  },
  {
   "cell_type": "code",
   "execution_count": 20,
   "id": "5b5d0056",
   "metadata": {},
   "outputs": [
    {
     "data": {
      "text/html": [
       "<div>\n",
       "<style scoped>\n",
       "    .dataframe tbody tr th:only-of-type {\n",
       "        vertical-align: middle;\n",
       "    }\n",
       "\n",
       "    .dataframe tbody tr th {\n",
       "        vertical-align: top;\n",
       "    }\n",
       "\n",
       "    .dataframe thead th {\n",
       "        text-align: right;\n",
       "    }\n",
       "</style>\n",
       "<table border=\"1\" class=\"dataframe\">\n",
       "  <thead>\n",
       "    <tr style=\"text-align: right;\">\n",
       "      <th></th>\n",
       "      <th>R&amp;D Spend</th>\n",
       "      <th>Administration</th>\n",
       "      <th>Marketing Spend</th>\n",
       "      <th>State</th>\n",
       "      <th>Profit</th>\n",
       "    </tr>\n",
       "  </thead>\n",
       "  <tbody>\n",
       "    <tr>\n",
       "      <th>0</th>\n",
       "      <td>165349.20</td>\n",
       "      <td>136897.800</td>\n",
       "      <td>471784.1000</td>\n",
       "      <td>New York</td>\n",
       "      <td>192261.83000</td>\n",
       "    </tr>\n",
       "    <tr>\n",
       "      <th>1</th>\n",
       "      <td>162597.70</td>\n",
       "      <td>151377.590</td>\n",
       "      <td>443898.5300</td>\n",
       "      <td>California</td>\n",
       "      <td>191792.06000</td>\n",
       "    </tr>\n",
       "    <tr>\n",
       "      <th>2</th>\n",
       "      <td>153441.51</td>\n",
       "      <td>101145.550</td>\n",
       "      <td>407934.5400</td>\n",
       "      <td>Florida</td>\n",
       "      <td>191050.39000</td>\n",
       "    </tr>\n",
       "    <tr>\n",
       "      <th>3</th>\n",
       "      <td>144372.41</td>\n",
       "      <td>118671.850</td>\n",
       "      <td>383199.6200</td>\n",
       "      <td>New York</td>\n",
       "      <td>182901.99000</td>\n",
       "    </tr>\n",
       "    <tr>\n",
       "      <th>4</th>\n",
       "      <td>142107.34</td>\n",
       "      <td>91391.770</td>\n",
       "      <td>366168.4200</td>\n",
       "      <td>Florida</td>\n",
       "      <td>166187.94000</td>\n",
       "    </tr>\n",
       "    <tr>\n",
       "      <th>...</th>\n",
       "      <td>...</td>\n",
       "      <td>...</td>\n",
       "      <td>...</td>\n",
       "      <td>...</td>\n",
       "      <td>...</td>\n",
       "    </tr>\n",
       "    <tr>\n",
       "      <th>995</th>\n",
       "      <td>54135.00</td>\n",
       "      <td>118451.999</td>\n",
       "      <td>173232.6695</td>\n",
       "      <td>California</td>\n",
       "      <td>95279.96251</td>\n",
       "    </tr>\n",
       "    <tr>\n",
       "      <th>996</th>\n",
       "      <td>134970.00</td>\n",
       "      <td>130390.080</td>\n",
       "      <td>329204.0228</td>\n",
       "      <td>California</td>\n",
       "      <td>164336.60550</td>\n",
       "    </tr>\n",
       "    <tr>\n",
       "      <th>997</th>\n",
       "      <td>100275.47</td>\n",
       "      <td>241926.310</td>\n",
       "      <td>227142.8200</td>\n",
       "      <td>California</td>\n",
       "      <td>413956.48000</td>\n",
       "    </tr>\n",
       "    <tr>\n",
       "      <th>998</th>\n",
       "      <td>128456.23</td>\n",
       "      <td>321652.140</td>\n",
       "      <td>281692.3200</td>\n",
       "      <td>California</td>\n",
       "      <td>333962.19000</td>\n",
       "    </tr>\n",
       "    <tr>\n",
       "      <th>999</th>\n",
       "      <td>161181.72</td>\n",
       "      <td>270939.860</td>\n",
       "      <td>295442.1700</td>\n",
       "      <td>New York</td>\n",
       "      <td>476485.43000</td>\n",
       "    </tr>\n",
       "  </tbody>\n",
       "</table>\n",
       "<p>1000 rows × 5 columns</p>\n",
       "</div>"
      ],
      "text/plain": [
       "     R&D Spend  Administration  Marketing Spend       State        Profit\n",
       "0    165349.20      136897.800      471784.1000    New York  192261.83000\n",
       "1    162597.70      151377.590      443898.5300  California  191792.06000\n",
       "2    153441.51      101145.550      407934.5400     Florida  191050.39000\n",
       "3    144372.41      118671.850      383199.6200    New York  182901.99000\n",
       "4    142107.34       91391.770      366168.4200     Florida  166187.94000\n",
       "..         ...             ...              ...         ...           ...\n",
       "995   54135.00      118451.999      173232.6695  California   95279.96251\n",
       "996  134970.00      130390.080      329204.0228  California  164336.60550\n",
       "997  100275.47      241926.310      227142.8200  California  413956.48000\n",
       "998  128456.23      321652.140      281692.3200  California  333962.19000\n",
       "999  161181.72      270939.860      295442.1700    New York  476485.43000\n",
       "\n",
       "[1000 rows x 5 columns]"
      ]
     },
     "execution_count": 20,
     "metadata": {},
     "output_type": "execute_result"
    }
   ],
   "source": [
    "df = pd.read_csv('Lab2.csv')\n",
    "df"
   ]
  },
  {
   "cell_type": "code",
   "execution_count": 21,
   "id": "70d20415",
   "metadata": {},
   "outputs": [],
   "source": [
    "plt.rcParams['figure.figsize'] = (15,6)"
   ]
  },
  {
   "cell_type": "code",
   "execution_count": 22,
   "id": "d69a3028",
   "metadata": {},
   "outputs": [
    {
     "name": "stdout",
     "output_type": "stream",
     "text": [
      "<class 'pandas.core.frame.DataFrame'>\n",
      "RangeIndex: 1000 entries, 0 to 999\n",
      "Data columns (total 5 columns):\n",
      " #   Column           Non-Null Count  Dtype  \n",
      "---  ------           --------------  -----  \n",
      " 0   R&D Spend        1000 non-null   float64\n",
      " 1   Administration   1000 non-null   float64\n",
      " 2   Marketing Spend  1000 non-null   float64\n",
      " 3   State            1000 non-null   object \n",
      " 4   Profit           1000 non-null   float64\n",
      "dtypes: float64(4), object(1)\n",
      "memory usage: 39.2+ KB\n"
     ]
    }
   ],
   "source": [
    "df.info()"
   ]
  },
  {
   "cell_type": "code",
   "execution_count": 23,
   "id": "fb7ae22d",
   "metadata": {},
   "outputs": [
    {
     "data": {
      "text/plain": [
       "R&D Spend          0\n",
       "Administration     0\n",
       "Marketing Spend    0\n",
       "State              0\n",
       "Profit             0\n",
       "dtype: int64"
      ]
     },
     "execution_count": 23,
     "metadata": {},
     "output_type": "execute_result"
    }
   ],
   "source": [
    "df.isnull().sum()"
   ]
  },
  {
   "cell_type": "code",
   "execution_count": 24,
   "id": "a0bb1585",
   "metadata": {},
   "outputs": [
    {
     "data": {
      "text/html": [
       "<div>\n",
       "<style scoped>\n",
       "    .dataframe tbody tr th:only-of-type {\n",
       "        vertical-align: middle;\n",
       "    }\n",
       "\n",
       "    .dataframe tbody tr th {\n",
       "        vertical-align: top;\n",
       "    }\n",
       "\n",
       "    .dataframe thead th {\n",
       "        text-align: right;\n",
       "    }\n",
       "</style>\n",
       "<table border=\"1\" class=\"dataframe\">\n",
       "  <thead>\n",
       "    <tr style=\"text-align: right;\">\n",
       "      <th></th>\n",
       "      <th>R&amp;D Spend</th>\n",
       "      <th>Administration</th>\n",
       "      <th>Marketing Spend</th>\n",
       "      <th>Profit</th>\n",
       "    </tr>\n",
       "  </thead>\n",
       "  <tbody>\n",
       "    <tr>\n",
       "      <th>R&amp;D Spend</th>\n",
       "      <td>1.000000</td>\n",
       "      <td>0.582434</td>\n",
       "      <td>0.978407</td>\n",
       "      <td>0.945245</td>\n",
       "    </tr>\n",
       "    <tr>\n",
       "      <th>Administration</th>\n",
       "      <td>0.582434</td>\n",
       "      <td>1.000000</td>\n",
       "      <td>0.520465</td>\n",
       "      <td>0.741560</td>\n",
       "    </tr>\n",
       "    <tr>\n",
       "      <th>Marketing Spend</th>\n",
       "      <td>0.978407</td>\n",
       "      <td>0.520465</td>\n",
       "      <td>1.000000</td>\n",
       "      <td>0.917270</td>\n",
       "    </tr>\n",
       "    <tr>\n",
       "      <th>Profit</th>\n",
       "      <td>0.945245</td>\n",
       "      <td>0.741560</td>\n",
       "      <td>0.917270</td>\n",
       "      <td>1.000000</td>\n",
       "    </tr>\n",
       "  </tbody>\n",
       "</table>\n",
       "</div>"
      ],
      "text/plain": [
       "                 R&D Spend  Administration  Marketing Spend    Profit\n",
       "R&D Spend         1.000000        0.582434         0.978407  0.945245\n",
       "Administration    0.582434        1.000000         0.520465  0.741560\n",
       "Marketing Spend   0.978407        0.520465         1.000000  0.917270\n",
       "Profit            0.945245        0.741560         0.917270  1.000000"
      ]
     },
     "execution_count": 24,
     "metadata": {},
     "output_type": "execute_result"
    }
   ],
   "source": [
    "correlation = df.corr()\n",
    "correlation"
   ]
  },
  {
   "cell_type": "code",
   "execution_count": 26,
   "id": "08c617f9",
   "metadata": {},
   "outputs": [
    {
     "data": {
      "text/html": [
       "<div>\n",
       "<style scoped>\n",
       "    .dataframe tbody tr th:only-of-type {\n",
       "        vertical-align: middle;\n",
       "    }\n",
       "\n",
       "    .dataframe tbody tr th {\n",
       "        vertical-align: top;\n",
       "    }\n",
       "\n",
       "    .dataframe thead th {\n",
       "        text-align: right;\n",
       "    }\n",
       "</style>\n",
       "<table border=\"1\" class=\"dataframe\">\n",
       "  <thead>\n",
       "    <tr style=\"text-align: right;\">\n",
       "      <th></th>\n",
       "      <th>Profit</th>\n",
       "    </tr>\n",
       "  </thead>\n",
       "  <tbody>\n",
       "    <tr>\n",
       "      <th>Administration</th>\n",
       "      <td>0.741560</td>\n",
       "    </tr>\n",
       "    <tr>\n",
       "      <th>Marketing Spend</th>\n",
       "      <td>0.917270</td>\n",
       "    </tr>\n",
       "    <tr>\n",
       "      <th>R&amp;D Spend</th>\n",
       "      <td>0.945245</td>\n",
       "    </tr>\n",
       "    <tr>\n",
       "      <th>Profit</th>\n",
       "      <td>1.000000</td>\n",
       "    </tr>\n",
       "  </tbody>\n",
       "</table>\n",
       "</div>"
      ],
      "text/plain": [
       "                   Profit\n",
       "Administration   0.741560\n",
       "Marketing Spend  0.917270\n",
       "R&D Spend        0.945245\n",
       "Profit           1.000000"
      ]
     },
     "execution_count": 26,
     "metadata": {},
     "output_type": "execute_result"
    }
   ],
   "source": [
    "df.corr()['Profit'].sort_values().to_frame()"
   ]
  },
  {
   "cell_type": "code",
   "execution_count": 27,
   "id": "c7c184e3",
   "metadata": {},
   "outputs": [
    {
     "data": {
      "text/plain": [
       "<AxesSubplot:>"
      ]
     },
     "execution_count": 27,
     "metadata": {},
     "output_type": "execute_result"
    },
    {
     "data": {
      "image/png": "[encoded data removed]",
      "text/plain": [
       "<Figure size 1080x432 with 2 Axes>"
      ]
     },
     "metadata": {
      "needs_background": "light"
     },
     "output_type": "display_data"
    }
   ],
   "source": [
    "sns.heatmap(correlation, annot=True)"
   ]
  },
  {
   "cell_type": "markdown",
   "id": "6a80e362",
   "metadata": {},
   "source": []
  },
  {
   "cell_type": "code",
   "execution_count": 29,
   "id": "bc511326",
   "metadata": {},
   "outputs": [
    {
     "data": {
      "text/plain": [
       "<seaborn.axisgrid.PairGrid at 0x2a822328a00>"
      ]
     },
     "execution_count": 29,
     "metadata": {},
     "output_type": "execute_result"
    },
    {
     "data": {
      "image/png": "[encoded data removed]",
      "text/plain": [
       "<Figure size 720x720 with 20 Axes>"
      ]
     },
     "metadata": {
      "needs_background": "light"
     },
     "output_type": "display_data"
    }
   ],
   "source": [
    "sns.pairplot(df)"
   ]
  },
  {
   "cell_type": "code",
   "execution_count": 30,
   "id": "96554d64",
   "metadata": {},
   "outputs": [
    {
     "data": {
      "text/plain": [
       "Index(['R&D Spend', 'Administration', 'Marketing Spend', 'State', 'Profit'], dtype='object')"
      ]
     },
     "execution_count": 30,
     "metadata": {},
     "output_type": "execute_result"
    }
   ],
   "source": [
    "df.columns"
   ]
  },
  {
   "cell_type": "markdown",
   "id": "6140cb4c",
   "metadata": {},
   "source": []
  },
  {
   "cell_type": "code",
   "execution_count": 31,
   "id": "af3a94cc",
   "metadata": {},
   "outputs": [],
   "source": [
    "x = df[['R&D Spend', 'Administration', 'Marketing Spend', 'State']].values\n",
    "y = df[['Profit']].values"
   ]
  },
  {
   "cell_type": "markdown",
   "id": "0b6b2d17",
   "metadata": {},
   "source": []
  },
  {
   "cell_type": "code",
   "execution_count": 32,
   "id": "c2156593",
   "metadata": {},
   "outputs": [],
   "source": [
    "from sklearn.preprocessing import LabelEncoder, OneHotEncoder\n",
    "from sklearn.compose import ColumnTransformer"
   ]
  },
  {
   "cell_type": "code",
   "execution_count": 33,
   "id": "75cddf6b",
   "metadata": {},
   "outputs": [],
   "source": [
    "from sklearn.compose import ColumnTransformer\n",
    "from sklearn.preprocessing import OneHotEncoder\n",
    "ct = ColumnTransformer(transformers=[('encoder', OneHotEncoder(), [3])], remainder='passthrough')\n",
    "x = np.array(ct.fit_transform(x))"
   ]
  },
  {
   "cell_type": "code",
   "execution_count": 34,
   "id": "dbabb2b2",
   "metadata": {},
   "outputs": [],
   "source": [
    "from sklearn.model_selection import train_test_split\n",
    "\n",
    "x_train, x_test, y_train, y_test = train_test_split(x, y, test_size = 0.2, random_state = 0)"
   ]
  },
  {
   "cell_type": "markdown",
   "id": "f8e3a7e6",
   "metadata": {},
   "source": []
  },
  {
   "cell_type": "code",
   "execution_count": 35,
   "id": "9cf0bc77",
   "metadata": {},
   "outputs": [],
   "source": [
    "from sklearn.linear_model import LinearRegression\n",
    "\n",
    "lin_reg = LinearRegression()\n",
    "lin_model = lin_reg.fit(x_train, y_train)\n"
   ]
  },
  {
   "cell_type": "code",
   "execution_count": 36,
   "id": "4025c8f7",
   "metadata": {},
   "outputs": [
    {
     "name": "stdout",
     "output_type": "stream",
     "text": [
      "[[ 89790.62]\n",
      " [ 88427.07]\n",
      " [ 94894.68]\n",
      " [175680.87]\n",
      " [ 83411.73]\n",
      " [110571.9 ]\n",
      " [132145.23]\n",
      " [ 91473.38]\n",
      " [164597.05]\n",
      " [ 53222.83]\n",
      " [ 66950.19]\n",
      " [150566.44]\n",
      " [126915.21]\n",
      " [ 59337.86]\n",
      " [177513.91]\n",
      " [ 75316.28]\n",
      " [118248.14]\n",
      " [164574.41]\n",
      " [170937.29]\n",
      " [182069.12]\n",
      " [118845.03]\n",
      " [ 85669.95]\n",
      " [180992.59]\n",
      " [ 84145.08]\n",
      " [105005.84]\n",
      " [101233.57]\n",
      " [ 53831.08]\n",
      " [ 56881.41]\n",
      " [ 68896.39]\n",
      " [210040.01]\n",
      " [120778.72]\n",
      " [111724.87]\n",
      " [101487.91]\n",
      " [137959.03]\n",
      " [ 63969.96]\n",
      " [108857.91]\n",
      " [186014.73]\n",
      " [171442.64]\n",
      " [174644.27]\n",
      " [117671.49]\n",
      " [ 96731.38]\n",
      " [165452.26]\n",
      " [107724.34]\n",
      " [ 50194.54]\n",
      " [116513.9 ]\n",
      " [ 58632.49]\n",
      " [158416.47]\n",
      " [ 78541.49]\n",
      " [159727.67]\n",
      " [131137.88]\n",
      " [184880.71]\n",
      " [174609.08]\n",
      " [ 93745.66]\n",
      " [ 78341.13]\n",
      " [180745.9 ]\n",
      " [ 84461.61]\n",
      " [142900.91]\n",
      " [170618.44]\n",
      " [ 84365.1 ]\n",
      " [105307.37]\n",
      " [141660.07]\n",
      " [ 52527.34]\n",
      " [141842.96]\n",
      " [139176.28]\n",
      " [ 98294.53]\n",
      " [113586.87]\n",
      " [126754.22]\n",
      " [152135.52]\n",
      " [ 58864.52]\n",
      " [174285.57]\n",
      " [124624.04]\n",
      " [169065.78]\n",
      " [ 91279.33]\n",
      " [156170.37]\n",
      " [ 84307.27]\n",
      " [ 77877.75]\n",
      " [120414.02]\n",
      " [ 93380.44]\n",
      " [139020.63]\n",
      " [143604.67]\n",
      " [171148.31]\n",
      " [140082.97]\n",
      " [106369.72]\n",
      " [155641.44]\n",
      " [140030.1 ]\n",
      " [110172.88]\n",
      " [ 69672.99]\n",
      " [ 88148.52]\n",
      " [140133.6 ]\n",
      " [148479.1 ]\n",
      " [157916.64]\n",
      " [ 58532.95]\n",
      " [ 93707.38]\n",
      " [112646.37]\n",
      " [ 56556.19]\n",
      " [107414.9 ]\n",
      " [147352.8 ]\n",
      " [152144.1 ]\n",
      " [167808.12]\n",
      " [118750.25]\n",
      " [120763.28]\n",
      " [139029.95]\n",
      " [157527.91]\n",
      " [121962.06]\n",
      " [ 87091.32]\n",
      " [104792.91]\n",
      " [ 95335.23]\n",
      " [178389.52]\n",
      " [181942.64]\n",
      " [109831.35]\n",
      " [165254.03]\n",
      " [167806.06]\n",
      " [158002.45]\n",
      " [174782.87]\n",
      " [170196.77]\n",
      " [ 52302.18]\n",
      " [176938.12]\n",
      " [104751.84]\n",
      " [ 82710.32]\n",
      " [138890.53]\n",
      " [144274.75]\n",
      " [161679.02]\n",
      " [169662.05]\n",
      " [120450.92]\n",
      " [158880.71]\n",
      " [110213.73]\n",
      " [169674.52]\n",
      " [ 60760.61]\n",
      " [159037.  ]\n",
      " [158169.44]\n",
      " [174511.7 ]\n",
      " [156294.8 ]\n",
      " [103714.38]\n",
      " [ 85635.96]\n",
      " [141603.55]\n",
      " [165917.69]\n",
      " [121182.04]\n",
      " [170751.88]\n",
      " [100505.78]\n",
      " [ 82097.51]\n",
      " [178643.19]\n",
      " [101790.48]\n",
      " [ 70507.41]\n",
      " [ 90250.04]\n",
      " [ 61247.5 ]\n",
      " [ 68912.18]\n",
      " [ 72775.82]\n",
      " [176914.09]\n",
      " [ 89704.69]\n",
      " [129209.44]\n",
      " [ 92672.91]\n",
      " [ 88133.59]\n",
      " [172836.33]\n",
      " [ 60893.62]\n",
      " [169015.89]\n",
      " [166450.24]\n",
      " [165425.54]\n",
      " [102170.52]\n",
      " [181594.58]\n",
      " [ 73702.58]\n",
      " [ 91267.43]\n",
      " [135791.54]\n",
      " [ 64922.8 ]\n",
      " [ 71775.7 ]\n",
      " [ 60603.91]\n",
      " [184288.61]\n",
      " [176286.7 ]\n",
      " [158907.76]\n",
      " [141359.32]\n",
      " [154611.18]\n",
      " [ 58549.59]\n",
      " [ 90618.58]\n",
      " [152885.51]\n",
      " [168398.05]\n",
      " [ 72485.36]\n",
      " [116064.24]\n",
      " [ 80087.81]\n",
      " [149828.91]\n",
      " [116806.96]\n",
      " [130191.49]\n",
      " [174534.43]\n",
      " [293584.46]\n",
      " [146270.83]\n",
      " [150646.69]\n",
      " [ 86107.48]\n",
      " [ 69967.21]\n",
      " [ 70096.78]\n",
      " [ 69033.69]\n",
      " [120666.76]\n",
      " [ 89677.68]\n",
      " [166824.27]\n",
      " [125514.77]\n",
      " [ 67209.68]\n",
      " [140930.69]\n",
      " [118544.3 ]\n",
      " [165897.62]\n",
      " [168655.49]\n",
      " [147009.67]\n",
      " [141396.22]\n",
      " [109086.51]]\n"
     ]
    }
   ],
   "source": [
    "y_pred = lin_model.predict(x_test)\n",
    "np.set_printoptions(precision=2)\n",
    "print(y_pred)"
   ]
  },
  {
   "cell_type": "code",
   "execution_count": 37,
   "id": "e6f09213",
   "metadata": {},
   "outputs": [
    {
     "data": {
      "text/html": [
       "<div>\n",
       "<style scoped>\n",
       "    .dataframe tbody tr th:only-of-type {\n",
       "        vertical-align: middle;\n",
       "    }\n",
       "\n",
       "    .dataframe tbody tr th {\n",
       "        vertical-align: top;\n",
       "    }\n",
       "\n",
       "    .dataframe thead th {\n",
       "        text-align: right;\n",
       "    }\n",
       "</style>\n",
       "<table border=\"1\" class=\"dataframe\">\n",
       "  <thead>\n",
       "    <tr style=\"text-align: right;\">\n",
       "      <th></th>\n",
       "      <th>y_pred</th>\n",
       "      <th>y_test</th>\n",
       "    </tr>\n",
       "  </thead>\n",
       "  <tbody>\n",
       "    <tr>\n",
       "      <th>0</th>\n",
       "      <td>89790.615329</td>\n",
       "      <td>89012.02672</td>\n",
       "    </tr>\n",
       "    <tr>\n",
       "      <th>1</th>\n",
       "      <td>88427.071874</td>\n",
       "      <td>87654.55773</td>\n",
       "    </tr>\n",
       "    <tr>\n",
       "      <th>2</th>\n",
       "      <td>94894.678370</td>\n",
       "      <td>94093.35179</td>\n",
       "    </tr>\n",
       "    <tr>\n",
       "      <th>3</th>\n",
       "      <td>175680.867256</td>\n",
       "      <td>175396.26160</td>\n",
       "    </tr>\n",
       "    <tr>\n",
       "      <th>4</th>\n",
       "      <td>83411.730421</td>\n",
       "      <td>83356.61784</td>\n",
       "    </tr>\n",
       "    <tr>\n",
       "      <th>...</th>\n",
       "      <td>...</td>\n",
       "      <td>...</td>\n",
       "    </tr>\n",
       "    <tr>\n",
       "      <th>195</th>\n",
       "      <td>165897.619059</td>\n",
       "      <td>164779.98270</td>\n",
       "    </tr>\n",
       "    <tr>\n",
       "      <th>196</th>\n",
       "      <td>168655.486526</td>\n",
       "      <td>168402.17810</td>\n",
       "    </tr>\n",
       "    <tr>\n",
       "      <th>197</th>\n",
       "      <td>147009.668050</td>\n",
       "      <td>145976.17530</td>\n",
       "    </tr>\n",
       "    <tr>\n",
       "      <th>198</th>\n",
       "      <td>141396.221041</td>\n",
       "      <td>141082.79440</td>\n",
       "    </tr>\n",
       "    <tr>\n",
       "      <th>199</th>\n",
       "      <td>109086.506348</td>\n",
       "      <td>108917.01570</td>\n",
       "    </tr>\n",
       "  </tbody>\n",
       "</table>\n",
       "<p>200 rows × 2 columns</p>\n",
       "</div>"
      ],
      "text/plain": [
       "            y_pred        y_test\n",
       "0     89790.615329   89012.02672\n",
       "1     88427.071874   87654.55773\n",
       "2     94894.678370   94093.35179\n",
       "3    175680.867256  175396.26160\n",
       "4     83411.730421   83356.61784\n",
       "..             ...           ...\n",
       "195  165897.619059  164779.98270\n",
       "196  168655.486526  168402.17810\n",
       "197  147009.668050  145976.17530\n",
       "198  141396.221041  141082.79440\n",
       "199  109086.506348  108917.01570\n",
       "\n",
       "[200 rows x 2 columns]"
      ]
     },
     "execution_count": 37,
     "metadata": {},
     "output_type": "execute_result"
    }
   ],
   "source": [
    "compare = np.concatenate((y_pred, y_test), axis=1)\n",
    "df_compare = pd. DataFrame(compare, columns=['y_pred', 'y_test'])\n",
    "df_compare"
   ]
  },
  {
   "cell_type": "code",
   "execution_count": 38,
   "id": "2328fb04",
   "metadata": {},
   "outputs": [
    {
     "name": "stdout",
     "output_type": "stream",
     "text": [
      "These are the values of model coeficients :  [[ 5.26e+02 -3.54e+02 -1.72e+02  5.26e-01  8.44e-01  1.08e-01]]\n",
      "This is the intercept model :  [-51561.46]\n"
     ]
    }
   ],
   "source": [
    "print(\"These are the values of model coeficients : \", lin_model.coef_)\n",
    "print(\"This is the intercept model : \", lin_model.intercept_)"
   ]
  },
  {
   "cell_type": "code",
   "execution_count": 42,
   "id": "f3cef6c4",
   "metadata": {},
   "outputs": [
    {
     "name": "stdout",
     "output_type": "stream",
     "text": [
      "This is the value of R^2 :91.13 %\n"
     ]
    }
   ],
   "source": [
    "from sklearn.metrics import r2_score\n",
    "R2 = r2_score(y_test, y_pred)\n",
    "print(\"This is the value of R^2 :{:.2f}\".format(R2 * 100.00) , \"%\")"
   ]
  },
  {
   "cell_type": "code",
   "execution_count": 40,
   "id": "13bcda29",
   "metadata": {},
   "outputs": [
    {
     "name": "stdout",
     "output_type": "stream",
     "text": [
      "[[175143.2]]\n"
     ]
    }
   ],
   "source": [
    "print(lin_model.predict([[1, 0, 0, 160000, 130000, 300000]]))"
   ]
  },
  {
   "cell_type": "code",
   "execution_count": null,
   "id": "a2cf0ce9",
   "metadata": {},
   "outputs": [],
   "source": []
  }
 ],
 "metadata": {
  "kernelspec": {
   "display_name": "Python 3 (ipykernel)",
   "language": "python",
   "name": "python3"
  },
  "language_info": {
   "codemirror_mode": {
    "name": "ipython",
    "version": 3
   },
   "file_extension": ".py",
   "mimetype": "text/x-python",
   "name": "python",
   "nbconvert_exporter": "python",
   "pygments_lexer": "ipython3",
   "version": "3.9.7"
  }
 },
 "nbformat": 4,
 "nbformat_minor": 5
}
